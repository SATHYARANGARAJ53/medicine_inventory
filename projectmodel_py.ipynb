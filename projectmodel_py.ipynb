{
  "nbformat": 4,
  "nbformat_minor": 0,
  "metadata": {
    "colab": {
      "provenance": [],
      "authorship_tag": "ABX9TyPkGwLZ9T3TeydXnVRUyDaL",
      "include_colab_link": true
    },
    "kernelspec": {
      "name": "python3",
      "display_name": "Python 3"
    },
    "language_info": {
      "name": "python"
    }
  },
  "cells": [
    {
      "cell_type": "markdown",
      "metadata": {
        "id": "view-in-github",
        "colab_type": "text"
      },
      "source": [
        "<a href=\"https://colab.research.google.com/github/SATHYARANGARAJ53/medicine_inventory/blob/main/projectmodel_py.ipynb\" target=\"_parent\"><img src=\"https://colab.research.google.com/assets/colab-badge.svg\" alt=\"Open In Colab\"/></a>"
      ]
    },
    {
      "cell_type": "code",
      "source": [
        "import pandas as pd\n",
        "import numpy as np\n",
        "from scipy.stats import chi2_contingency\n",
        "from statsmodels.tsa.seasonal import seasonal_decompose\n",
        "from tensorflow.keras.models import Sequential\n",
        "from tensorflow.keras.layers import LSTM, Dense\n",
        "from prophet import Prophet\n",
        "\n",
        "# Load dataset\n",
        "df = pd.read_csv(\"medicine_details.xlsx.csv\")\n",
        "\n",
        "# Generate synthetic stock data\n",
        "df['Stock Level'] = np.random.randint(50, 500, df.shape[0])\n",
        "df['Weekly Consumption'] = np.random.randint(10, 50, df.shape[0])\n",
        "df['Stock Expiry (Days)'] = np.random.randint(10, 120, df.shape[0])\n",
        "\n",
        "# CHAID for real-time stock analysis\n",
        "contingency_table = pd.crosstab(df['Stock Expiry (Days)'] < 30, df['Stock Level'] < 100)\n",
        "chi2, p, _, _ = chi2_contingency(contingency_table)\n",
        "print(f\"CHAID Test - Chi2: {chi2}, P-Value: {p}\")\n",
        "\n",
        "# LSTM for utilization trends\n",
        "sequence_length = 5\n",
        "X, y = [], []\n",
        "for i in range(len(df) - sequence_length):\n",
        "    X.append(df['Weekly Consumption'].iloc[i:i + sequence_length].values)\n",
        "    y.append(df['Weekly Consumption'].iloc[i + sequence_length])\n",
        "X, y = np.array(X), np.array(y)\n",
        "X = X.reshape((X.shape[0], X.shape[1], 1))\n",
        "\n",
        "model = Sequential([\n",
        "    LSTM(50, activation='relu', return_sequences=True, input_shape=(sequence_length, 1)),\n",
        "    LSTM(50, activation='relu'),\n",
        "    Dense(1)\n",
        "])\n",
        "model.compile(optimizer='adam', loss='mse')\n",
        "model.fit(X, y, epochs=10, verbose=1)\n",
        "\n",
        "# Prophet for demand forecasting\n",
        "prophet_df = df[['Medicine Name', 'Weekly Consumption']].rename(columns={'Weekly Consumption': 'y'})\n",
        "prophet_df['ds'] = pd.date_range(start='2025-01-01', periods=len(df), freq='W')\n",
        "prophet_model = Prophet()\n",
        "prophet_model.fit(prophet_df)\n",
        "future = prophet_model.make_future_dataframe(periods=12, freq='W')\n",
        "forecast = prophet_model.predict(future)\n",
        "print(forecast[['ds', 'yhat', 'yhat_lower', 'yhat_upper']].tail())\n"
      ],
      "metadata": {
        "colab": {
          "base_uri": "https://localhost:8080/"
        },
        "id": "BRnPLKEa6lzm",
        "outputId": "ba613f0b-27dc-4475-b790-e73296623a3e"
      },
      "execution_count": 8,
      "outputs": [
        {
          "output_type": "stream",
          "name": "stdout",
          "text": [
            "CHAID Test - Chi2: 1.237163223390117, P-Value: 0.2660184710701173\n",
            "Epoch 1/10\n"
          ]
        },
        {
          "output_type": "stream",
          "name": "stderr",
          "text": [
            "/usr/local/lib/python3.11/dist-packages/keras/src/layers/rnn/rnn.py:200: UserWarning: Do not pass an `input_shape`/`input_dim` argument to a layer. When using Sequential models, prefer using an `Input(shape)` object as the first layer in the model instead.\n",
            "  super().__init__(**kwargs)\n"
          ]
        },
        {
          "output_type": "stream",
          "name": "stdout",
          "text": [
            "\u001b[1m4/4\u001b[0m \u001b[32m━━━━━━━━━━━━━━━━━━━━\u001b[0m\u001b[37m\u001b[0m \u001b[1m3s\u001b[0m 13ms/step - loss: 1025.2404\n",
            "Epoch 2/10\n",
            "\u001b[1m4/4\u001b[0m \u001b[32m━━━━━━━━━━━━━━━━━━━━\u001b[0m\u001b[37m\u001b[0m \u001b[1m0s\u001b[0m 12ms/step - loss: 863.1003\n",
            "Epoch 3/10\n",
            "\u001b[1m4/4\u001b[0m \u001b[32m━━━━━━━━━━━━━━━━━━━━\u001b[0m\u001b[37m\u001b[0m \u001b[1m0s\u001b[0m 13ms/step - loss: 589.8961\n",
            "Epoch 4/10\n",
            "\u001b[1m4/4\u001b[0m \u001b[32m━━━━━━━━━━━━━━━━━━━━\u001b[0m\u001b[37m\u001b[0m \u001b[1m0s\u001b[0m 16ms/step - loss: 281.5468\n",
            "Epoch 5/10\n",
            "\u001b[1m4/4\u001b[0m \u001b[32m━━━━━━━━━━━━━━━━━━━━\u001b[0m\u001b[37m\u001b[0m \u001b[1m0s\u001b[0m 14ms/step - loss: 189.9546\n",
            "Epoch 6/10\n",
            "\u001b[1m4/4\u001b[0m \u001b[32m━━━━━━━━━━━━━━━━━━━━\u001b[0m\u001b[37m\u001b[0m \u001b[1m0s\u001b[0m 13ms/step - loss: 172.9384\n",
            "Epoch 7/10\n",
            "\u001b[1m4/4\u001b[0m \u001b[32m━━━━━━━━━━━━━━━━━━━━\u001b[0m\u001b[37m\u001b[0m \u001b[1m0s\u001b[0m 13ms/step - loss: 129.3131\n",
            "Epoch 8/10\n",
            "\u001b[1m4/4\u001b[0m \u001b[32m━━━━━━━━━━━━━━━━━━━━\u001b[0m\u001b[37m\u001b[0m \u001b[1m0s\u001b[0m 13ms/step - loss: 154.8832 \n",
            "Epoch 9/10\n",
            "\u001b[1m4/4\u001b[0m \u001b[32m━━━━━━━━━━━━━━━━━━━━\u001b[0m\u001b[37m\u001b[0m \u001b[1m0s\u001b[0m 14ms/step - loss: 138.2413 \n",
            "Epoch 10/10\n",
            "\u001b[1m4/4\u001b[0m \u001b[32m━━━━━━━━━━━━━━━━━━━━\u001b[0m\u001b[37m\u001b[0m \u001b[1m0s\u001b[0m 16ms/step - loss: 140.6920\n"
          ]
        },
        {
          "output_type": "stream",
          "name": "stderr",
          "text": [
            "INFO:prophet:Disabling weekly seasonality. Run prophet with weekly_seasonality=True to override this.\n",
            "INFO:prophet:Disabling daily seasonality. Run prophet with daily_seasonality=True to override this.\n",
            "DEBUG:cmdstanpy:input tempfile: /tmp/tmpp9e66i4g/kl04yy89.json\n",
            "DEBUG:cmdstanpy:input tempfile: /tmp/tmpp9e66i4g/4wi815px.json\n",
            "DEBUG:cmdstanpy:idx 0\n",
            "DEBUG:cmdstanpy:running CmdStan, num_threads: None\n",
            "DEBUG:cmdstanpy:CmdStan args: ['/usr/local/lib/python3.11/dist-packages/prophet/stan_model/prophet_model.bin', 'random', 'seed=75186', 'data', 'file=/tmp/tmpp9e66i4g/kl04yy89.json', 'init=/tmp/tmpp9e66i4g/4wi815px.json', 'output', 'file=/tmp/tmpp9e66i4g/prophet_modelsjtgql5r/prophet_model-20250131103247.csv', 'method=optimize', 'algorithm=lbfgs', 'iter=10000']\n",
            "10:32:47 - cmdstanpy - INFO - Chain [1] start processing\n",
            "INFO:cmdstanpy:Chain [1] start processing\n",
            "10:32:47 - cmdstanpy - INFO - Chain [1] done processing\n",
            "INFO:cmdstanpy:Chain [1] done processing\n"
          ]
        },
        {
          "output_type": "stream",
          "name": "stdout",
          "text": [
            "            ds       yhat  yhat_lower  yhat_upper\n",
            "127 2027-06-13  27.189705   15.259654   40.836261\n",
            "128 2027-06-20  27.363223   14.877419   39.408948\n",
            "129 2027-06-27  31.644218   19.805395   44.396226\n",
            "130 2027-07-04  35.444668   22.671905   47.835443\n",
            "131 2027-07-11  35.788553   22.930502   49.334561\n"
          ]
        }
      ]
    }
  ]
}