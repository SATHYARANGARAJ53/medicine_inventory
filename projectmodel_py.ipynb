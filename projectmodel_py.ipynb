{
  "nbformat": 4,
  "nbformat_minor": 0,
  "metadata": {
    "colab": {
      "provenance": [],
      "authorship_tag": "ABX9TyMbq3AAfTxpdR2isD4LGJZk",
      "include_colab_link": true
    },
    "kernelspec": {
      "name": "python3",
      "display_name": "Python 3"
    },
    "language_info": {
      "name": "python"
    }
  },
  "cells": [
    {
      "cell_type": "markdown",
      "metadata": {
        "id": "view-in-github",
        "colab_type": "text"
      },
      "source": [
        "<a href=\"https://colab.research.google.com/github/SATHYARANGARAJ53/medicine_inventory/blob/main/projectmodel_py.ipynb\" target=\"_parent\"><img src=\"https://colab.research.google.com/assets/colab-badge.svg\" alt=\"Open In Colab\"/></a>"
      ]
    },
    {
      "cell_type": "code",
      "execution_count": 4,
      "metadata": {
        "colab": {
          "base_uri": "https://localhost:8080/"
        },
        "id": "t6NQ9C-9yhd9",
        "outputId": "f7ceee81-54de-47c7-ca3f-fac988d093a2"
      },
      "outputs": [
        {
          "output_type": "stream",
          "name": "stdout",
          "text": [
            "CHAID Test - Chi2: 0.10147455208498499, P-Value: 0.7500672385539535\n"
          ]
        },
        {
          "output_type": "stream",
          "name": "stderr",
          "text": [
            "/usr/local/lib/python3.11/dist-packages/keras/src/layers/rnn/rnn.py:200: UserWarning: Do not pass an `input_shape`/`input_dim` argument to a layer. When using Sequential models, prefer using an `Input(shape)` object as the first layer in the model instead.\n",
            "  super().__init__(**kwargs)\n"
          ]
        },
        {
          "output_type": "stream",
          "name": "stdout",
          "text": [
            "Epoch 1/10\n",
            "\u001b[1m4/4\u001b[0m \u001b[32m━━━━━━━━━━━━━━━━━━━━\u001b[0m\u001b[37m\u001b[0m \u001b[1m3s\u001b[0m 13ms/step - loss: 790.0540\n",
            "Epoch 2/10\n",
            "\u001b[1m4/4\u001b[0m \u001b[32m━━━━━━━━━━━━━━━━━━━━\u001b[0m\u001b[37m\u001b[0m \u001b[1m0s\u001b[0m 16ms/step - loss: 619.1998\n",
            "Epoch 3/10\n",
            "\u001b[1m4/4\u001b[0m \u001b[32m━━━━━━━━━━━━━━━━━━━━\u001b[0m\u001b[37m\u001b[0m \u001b[1m0s\u001b[0m 20ms/step - loss: 322.8758\n",
            "Epoch 4/10\n",
            "\u001b[1m4/4\u001b[0m \u001b[32m━━━━━━━━━━━━━━━━━━━━\u001b[0m\u001b[37m\u001b[0m \u001b[1m0s\u001b[0m 16ms/step - loss: 237.9004\n",
            "Epoch 5/10\n",
            "\u001b[1m4/4\u001b[0m \u001b[32m━━━━━━━━━━━━━━━━━━━━\u001b[0m\u001b[37m\u001b[0m \u001b[1m0s\u001b[0m 17ms/step - loss: 263.4074\n",
            "Epoch 6/10\n",
            "\u001b[1m4/4\u001b[0m \u001b[32m━━━━━━━━━━━━━━━━━━━━\u001b[0m\u001b[37m\u001b[0m \u001b[1m0s\u001b[0m 17ms/step - loss: 206.0648\n",
            "Epoch 7/10\n",
            "\u001b[1m4/4\u001b[0m \u001b[32m━━━━━━━━━━━━━━━━━━━━\u001b[0m\u001b[37m\u001b[0m \u001b[1m0s\u001b[0m 19ms/step - loss: 203.5619\n",
            "Epoch 8/10\n",
            "\u001b[1m4/4\u001b[0m \u001b[32m━━━━━━━━━━━━━━━━━━━━\u001b[0m\u001b[37m\u001b[0m \u001b[1m0s\u001b[0m 17ms/step - loss: 217.4628\n",
            "Epoch 9/10\n",
            "\u001b[1m4/4\u001b[0m \u001b[32m━━━━━━━━━━━━━━━━━━━━\u001b[0m\u001b[37m\u001b[0m \u001b[1m0s\u001b[0m 23ms/step - loss: 170.6277\n",
            "Epoch 10/10\n",
            "\u001b[1m4/4\u001b[0m \u001b[32m━━━━━━━━━━━━━━━━━━━━\u001b[0m\u001b[37m\u001b[0m \u001b[1m0s\u001b[0m 16ms/step - loss: 173.1883\n"
          ]
        },
        {
          "output_type": "stream",
          "name": "stderr",
          "text": [
            "INFO:prophet:Disabling weekly seasonality. Run prophet with weekly_seasonality=True to override this.\n",
            "INFO:prophet:Disabling daily seasonality. Run prophet with daily_seasonality=True to override this.\n",
            "DEBUG:cmdstanpy:input tempfile: /tmp/tmpp9e66i4g/pgpkmskq.json\n",
            "DEBUG:cmdstanpy:input tempfile: /tmp/tmpp9e66i4g/ff7nebfn.json\n",
            "DEBUG:cmdstanpy:idx 0\n",
            "DEBUG:cmdstanpy:running CmdStan, num_threads: None\n",
            "DEBUG:cmdstanpy:CmdStan args: ['/usr/local/lib/python3.11/dist-packages/prophet/stan_model/prophet_model.bin', 'random', 'seed=91055', 'data', 'file=/tmp/tmpp9e66i4g/pgpkmskq.json', 'init=/tmp/tmpp9e66i4g/ff7nebfn.json', 'output', 'file=/tmp/tmpp9e66i4g/prophet_modelmq9u019b/prophet_model-20250131100332.csv', 'method=optimize', 'algorithm=lbfgs', 'iter=10000']\n",
            "10:03:32 - cmdstanpy - INFO - Chain [1] start processing\n",
            "INFO:cmdstanpy:Chain [1] start processing\n",
            "10:03:32 - cmdstanpy - INFO - Chain [1] done processing\n",
            "INFO:cmdstanpy:Chain [1] done processing\n"
          ]
        },
        {
          "output_type": "stream",
          "name": "stdout",
          "text": [
            "            ds       yhat  yhat_lower  yhat_upper\n",
            "127 2027-06-13  25.361611   11.635586   38.921493\n",
            "128 2027-06-20  31.137034   17.838029   45.054421\n",
            "129 2027-06-27  37.617878   23.391087   51.189323\n",
            "130 2027-07-04  39.205126   25.848036   53.853248\n",
            "131 2027-07-11  34.125007   19.981724   48.355087\n"
          ]
        }
      ],
      "source": [
        "import pandas as pd\n",
        "import numpy as np\n",
        "from scipy.stats import chi2_contingency\n",
        "from statsmodels.tsa.seasonal import seasonal_decompose\n",
        "from tensorflow.keras.models import Sequential\n",
        "from tensorflow.keras.layers import LSTM, Dense\n",
        "from prophet import Prophet\n",
        "\n",
        "# Load dataset\n",
        "df = pd.read_csv(\"sample_Au24.xlsx.csv\")\n",
        "\n",
        "# Generate synthetic stock data\n",
        "df['Stock Level'] = np.random.randint(50, 500, df.shape[0])\n",
        "df['Weekly Consumption'] = np.random.randint(10, 50, df.shape[0])\n",
        "df['Stock Expiry (Days)'] = np.random.randint(10, 120, df.shape[0])\n",
        "\n",
        "# CHAID for real-time stock analysis\n",
        "contingency_table = pd.crosstab(df['Stock Expiry (Days)'] < 30, df['Stock Level'] < 100)\n",
        "chi2, p, _, _ = chi2_contingency(contingency_table)\n",
        "print(f\"CHAID Test - Chi2: {chi2}, P-Value: {p}\")\n",
        "\n",
        "# LSTM for utilization trends\n",
        "sequence_length = 5\n",
        "X, y = [], []\n",
        "for i in range(len(df) - sequence_length):\n",
        "    X.append(df['Weekly Consumption'].iloc[i:i + sequence_length].values)\n",
        "    y.append(df['Weekly Consumption'].iloc[i + sequence_length])\n",
        "X, y = np.array(X), np.array(y)\n",
        "X = X.reshape((X.shape[0], X.shape[1], 1))\n",
        "\n",
        "model = Sequential([\n",
        "    LSTM(50, activation='relu', return_sequences=True, input_shape=(sequence_length, 1)),\n",
        "    LSTM(50, activation='relu'),\n",
        "    Dense(1)\n",
        "])\n",
        "model.compile(optimizer='adam', loss='mse')\n",
        "model.fit(X, y, epochs=10, verbose=1)\n",
        "\n",
        "# Prophet for demand forecasting\n",
        "prophet_df = df[['Medicine Name', 'Weekly Consumption']].rename(columns={'Weekly Consumption': 'y'})\n",
        "prophet_df['ds'] = pd.date_range(start='2025-01-01', periods=len(df), freq='W')\n",
        "prophet_model = Prophet()\n",
        "prophet_model.fit(prophet_df)\n",
        "future = prophet_model.make_future_dataframe(periods=12, freq='W')\n",
        "forecast = prophet_model.predict(future)\n",
        "print(forecast[['ds', 'yhat', 'yhat_lower', 'yhat_upper']].tail())"
      ]
    }
  ]
}